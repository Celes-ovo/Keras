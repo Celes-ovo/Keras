{
  "nbformat": 4,
  "nbformat_minor": 0,
  "metadata": {
    "colab": {
      "name": "mnist test.ipynb",
      "provenance": [],
      "collapsed_sections": [],
      "authorship_tag": "ABX9TyOGNsBVR+hM6xBwO+DRLz+k",
      "include_colab_link": true
    },
    "kernelspec": {
      "name": "python3",
      "display_name": "Python 3"
    }
  },
  "cells": [
    {
      "cell_type": "markdown",
      "metadata": {
        "id": "view-in-github",
        "colab_type": "text"
      },
      "source": [
        "<a href=\"https://colab.research.google.com/github/Celes-ovo/Keras/blob/main/mnist_test.ipynb\" target=\"_parent\"><img src=\"https://colab.research.google.com/assets/colab-badge.svg\" alt=\"Open In Colab\"/></a>"
      ]
    },
    {
      "cell_type": "code",
      "metadata": {
        "colab": {
          "base_uri": "https://localhost:8080/",
          "height": 990
        },
        "id": "fKQTNWnU7nfC",
        "outputId": "f7a1f157-3d22-44e7-ec22-011ac9e0ddef"
      },
      "source": [
        "from keras.datasets import mnist\r\n",
        "(train_images, train_labels), (test_images, test_labels) = mnist.load_data()\r\n",
        "\r\n",
        "from keras import models\r\n",
        "from keras import layers\r\n",
        "\r\n",
        "network = models.Sequential()\r\n",
        "network.add(layers.Dense(64, activation = 'relu'))\r\n",
        "network.add(layers.Dense(64, activation = 'relu'))\r\n",
        "network.add(layers.Dense(10, activation = 'softmax'))\r\n",
        "\r\n",
        "\r\n",
        "network.compile(optimizer = 'rmsprop',\r\n",
        "                loss = 'categorical_crossentropy',\r\n",
        "                metrics = ['accuracy'])\r\n",
        "\r\n",
        "train_images = train_images.reshape((60000, 28*28))\r\n",
        "train_images = train_images.astype('float32') / 255\r\n",
        "\r\n",
        "test_images = test_images.reshape((10000, 28*28))\r\n",
        "test_images = test_images.astype('float32') / 255\r\n",
        "\r\n",
        "from keras.utils import to_categorical\r\n",
        "\r\n",
        "train_labels = to_categorical(train_labels)\r\n",
        "test_labels = to_categorical(test_labels)\r\n",
        "\r\n",
        "history=network.fit(train_images, train_labels, epochs = 20, batch_size = 128)\r\n",
        "\r\n",
        "\"\"\"\r\n",
        "epochs = 2\r\n",
        "loss = 'categorical_crossentropy',\r\n",
        "metrics = ['accuracy'] #?\r\n",
        "\"\"\"\r\n",
        "\r\n",
        "\r\n",
        "import matplotlib.pyplot as plt\r\n",
        "\r\n",
        "loss = history.history['loss']\r\n",
        "acc = history.history['accuracy']\r\n",
        "#epochs = range(1, len(acc) + 1) ######\r\n",
        "epochs = range(1, len(acc)+1)\r\n",
        "\r\n",
        "plt.plot( epochs, loss, 'r', label = 'Loss function')\r\n",
        "plt.plot( epochs, acc, 'b', label = 'acc function')\r\n",
        "plt.xlabel('Epochs')\r\n",
        "plt.ylabel('Loss')\r\n",
        "plt.legend()\r\n",
        "\r\n",
        "plt.show()"
      ],
      "execution_count": 42,
      "outputs": [
        {
          "output_type": "stream",
          "text": [
            "Epoch 1/20\n",
            "469/469 [==============================] - 2s 3ms/step - loss: 0.6271 - accuracy: 0.8264\n",
            "Epoch 2/20\n",
            "469/469 [==============================] - 1s 3ms/step - loss: 0.1804 - accuracy: 0.9469\n",
            "Epoch 3/20\n",
            "469/469 [==============================] - 1s 3ms/step - loss: 0.1314 - accuracy: 0.9607\n",
            "Epoch 4/20\n",
            "469/469 [==============================] - 1s 3ms/step - loss: 0.0996 - accuracy: 0.9700\n",
            "Epoch 5/20\n",
            "469/469 [==============================] - 1s 3ms/step - loss: 0.0827 - accuracy: 0.9755\n",
            "Epoch 6/20\n",
            "469/469 [==============================] - 1s 3ms/step - loss: 0.0739 - accuracy: 0.9778\n",
            "Epoch 7/20\n",
            "469/469 [==============================] - 1s 3ms/step - loss: 0.0624 - accuracy: 0.9801\n",
            "Epoch 8/20\n",
            "469/469 [==============================] - 1s 3ms/step - loss: 0.0544 - accuracy: 0.9837\n",
            "Epoch 9/20\n",
            "469/469 [==============================] - 1s 3ms/step - loss: 0.0495 - accuracy: 0.9850\n",
            "Epoch 10/20\n",
            "469/469 [==============================] - 1s 3ms/step - loss: 0.0420 - accuracy: 0.9872\n",
            "Epoch 11/20\n",
            "469/469 [==============================] - 1s 3ms/step - loss: 0.0366 - accuracy: 0.9892\n",
            "Epoch 12/20\n",
            "469/469 [==============================] - 1s 3ms/step - loss: 0.0334 - accuracy: 0.9900\n",
            "Epoch 13/20\n",
            "469/469 [==============================] - 1s 3ms/step - loss: 0.0302 - accuracy: 0.9909\n",
            "Epoch 14/20\n",
            "469/469 [==============================] - 1s 3ms/step - loss: 0.0257 - accuracy: 0.9920\n",
            "Epoch 15/20\n",
            "469/469 [==============================] - 1s 3ms/step - loss: 0.0236 - accuracy: 0.9928\n",
            "Epoch 16/20\n",
            "469/469 [==============================] - 1s 3ms/step - loss: 0.0229 - accuracy: 0.9935\n",
            "Epoch 17/20\n",
            "469/469 [==============================] - 1s 3ms/step - loss: 0.0188 - accuracy: 0.9948\n",
            "Epoch 18/20\n",
            "469/469 [==============================] - 1s 3ms/step - loss: 0.0171 - accuracy: 0.9951\n",
            "Epoch 19/20\n",
            "469/469 [==============================] - 1s 3ms/step - loss: 0.0168 - accuracy: 0.9956\n",
            "Epoch 20/20\n",
            "469/469 [==============================] - 1s 3ms/step - loss: 0.0150 - accuracy: 0.9961\n"
          ],
          "name": "stdout"
        },
        {
          "output_type": "display_data",
          "data": {
            "image/png": "[encoded data removed]",
            "text/plain": [
              "<Figure size 432x288 with 1 Axes>"
            ]
          },
          "metadata": {
            "tags": [],
            "needs_background": "light"
          }
        }
      ]
    },
    {
      "cell_type": "code",
      "metadata": {
        "colab": {
          "base_uri": "https://localhost:8080/"
        },
        "id": "ufxkwF0pBdNP",
        "outputId": "fb4762b1-f048-4bd0-ec8f-86205183907a"
      },
      "source": [
        "history.history.keys()"
      ],
      "execution_count": 28,
      "outputs": [
        {
          "output_type": "execute_result",
          "data": {
            "text/plain": [
              "dict_keys(['loss', 'accuracy'])"
            ]
          },
          "metadata": {
            "tags": []
          },
          "execution_count": 28
        }
      ]
    },
    {
      "cell_type": "code",
      "metadata": {
        "colab": {
          "base_uri": "https://localhost:8080/"
        },
        "id": "a7zH9uQWGr-V",
        "outputId": "56bfc0e2-ad3e-4cae-f656-27508c480f3c"
      },
      "source": [
        "loss"
      ],
      "execution_count": 44,
      "outputs": [
        {
          "output_type": "execute_result",
          "data": {
            "text/plain": [
              "[0.3644108474254608,\n",
              " 0.16862043738365173,\n",
              " 0.12432833015918732,\n",
              " 0.09972551465034485,\n",
              " 0.08399219065904617,\n",
              " 0.07217632979154587,\n",
              " 0.06305807083845139,\n",
              " 0.056054819375276566,\n",
              " 0.04968855902552605,\n",
              " 0.04405956715345383,\n",
              " 0.039607975631952286,\n",
              " 0.035144414752721786,\n",
              " 0.0317905992269516,\n",
              " 0.028033213689923286,\n",
              " 0.025121178478002548,\n",
              " 0.023383058607578278,\n",
              " 0.020848317071795464,\n",
              " 0.01828080601990223,\n",
              " 0.01655970700085163,\n",
              " 0.014990069903433323]"
            ]
          },
          "metadata": {
            "tags": []
          },
          "execution_count": 44
        }
      ]
    },
    {
      "cell_type": "code",
      "metadata": {
        "id": "1IdwHg3XIbZl"
      },
      "source": [
        ""
      ],
      "execution_count": null,
      "outputs": []
    }
  ]
}