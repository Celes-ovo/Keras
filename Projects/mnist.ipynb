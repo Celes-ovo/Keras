{
 "cells": [
  {
   "cell_type": "code",
   "execution_count": 1,
   "id": "cutting-music",
   "metadata": {},
   "outputs": [
    {
     "name": "stdout",
     "output_type": "stream",
     "text": [
      "2.3.0\n"
     ]
    }
   ],
   "source": [
    "# tensorflow와 tf.keras를 임포트합니다\n",
    "import tensorflow as tf\n",
    "from tensorflow import keras\n",
    "import glob, natsort\n",
    "\n",
    "# 헬퍼(helper) 라이브러리를 임포트합니다\n",
    "import numpy as np\n",
    "import matplotlib.pyplot as plt\n",
    "\n",
    "from keras.preprocessing.image import ImageDataGenerator\n",
    "\n",
    "print(tf.__version__)"
   ]
  },
  {
   "cell_type": "code",
   "execution_count": 2,
   "id": "unlike-cleanup",
   "metadata": {},
   "outputs": [],
   "source": [
    "generator_1 = ImageDataGenerator(\n",
    "    rescale=1./255,\n",
    "    rotation_range = 5,\n",
    "    width_shift_range = 0.1,\n",
    "    height_shift_range = 0.1,\n",
    "    validation_split=0.2)\n",
    "\n",
    "generator_2 = ImageDataGenerator(rescale=1./255)\n",
    "\n",
    "#test_generator = ImageDataGenerator(rescale=1./255)"
   ]
  },
  {
   "cell_type": "code",
   "execution_count": 3,
   "id": "married-paper",
   "metadata": {},
   "outputs": [
    {
     "name": "stdout",
     "output_type": "stream",
     "text": [
      "Found 48004 images belonging to 10 classes.\n",
      "Found 10000 images belonging to 10 classes.\n",
      "Found 11996 images belonging to 10 classes.\n"
     ]
    }
   ],
   "source": [
    "train_generator = generator_1.flow_from_directory(\n",
    "    './mnist_png/train',\n",
    "    target_size=(28, 28),\n",
    "    class_mode='categorical',\n",
    "    batch_size=64,\n",
    "    shuffle=True, \n",
    "    seed=77,\n",
    "    subset='training')\n",
    "\n",
    "\n",
    "test_generator = generator_2.flow_from_directory(\n",
    "    './mnist_png/test',\n",
    "    target_size=(28, 28),\n",
    "    class_mode='categorical',\n",
    "    batch_size=64)\n",
    "\n",
    "\n",
    "\n",
    "val_generator = generator_1.flow_from_directory(\n",
    "    './mnist_png/train',\n",
    "    target_size=(28, 28),\n",
    "    class_mode='categorical',\n",
    "    batch_size=64,\n",
    "    shuffle=True, \n",
    "    seed=77,\n",
    "    subset='validation')"
   ]
  },
  {
   "cell_type": "code",
   "execution_count": 4,
   "id": "korean-romance",
   "metadata": {},
   "outputs": [
    {
     "name": "stdout",
     "output_type": "stream",
     "text": [
      "(64, 28, 28, 3)\n"
     ]
    }
   ],
   "source": [
    "x_train, y_train = next(train_generator)\n",
    "\n",
    "print(x_train.shape)"
   ]
  },
  {
   "cell_type": "code",
   "execution_count": 5,
   "id": "skilled-buffer",
   "metadata": {},
   "outputs": [
    {
     "name": "stdout",
     "output_type": "stream",
     "text": [
      "(64, 28, 28, 3)\n"
     ]
    }
   ],
   "source": [
    "x_val, y_val = next(val_generator)\n",
    "\n",
    "print(x_val.shape)"
   ]
  },
  {
   "cell_type": "code",
   "execution_count": 6,
   "id": "lyric-translator",
   "metadata": {},
   "outputs": [
    {
     "name": "stdout",
     "output_type": "stream",
     "text": [
      "(28, 28, 3)\n",
      "(28, 28, 3)\n"
     ]
    },
    {
     "data": {
      "image/png": "[encoded data removed]",
      "text/plain": [
       "<Figure size 360x360 with 2 Axes>"
      ]
     },
     "metadata": {
      "needs_background": "light"
     },
     "output_type": "display_data"
    }
   ],
   "source": [
    "q = 10\n",
    "\n",
    "plt.figure(figsize = (5, 5))\n",
    "\n",
    "plt.subplot(211)\n",
    "plt.imshow(x_train[q])\n",
    "print(x_train[q].shape)\n",
    "\n",
    "plt.subplot(212)\n",
    "plt.imshow(x_val[q])\n",
    "print(x_val[q].shape)"
   ]
  },
  {
   "cell_type": "markdown",
   "id": "tropical-infrastructure",
   "metadata": {},
   "source": [
    "from keras import models, layers\n",
    "\n",
    "model = models.Sequential()\n",
    "\n",
    "model.add(layers.Flatten(input_shape=(28, 28, 3)))\n",
    "model.add(layers.Dense(28, activation = 'relu'))\n",
    "model.add(layers.Dense(14, activation = 'relu'))\n",
    "model.add(layers.Dense(10))"
   ]
  },
  {
   "cell_type": "code",
   "execution_count": 7,
   "id": "other-natural",
   "metadata": {},
   "outputs": [],
   "source": [
    "from keras import models, layers\n",
    "\n",
    "model = models.Sequential()\n",
    "\n",
    "# layers.SeparableConv2D\n",
    "model.add(layers.Conv2D(28, (3, 3), activation='relu', input_shape=(28, 28, 3)))\n",
    "model.add(layers.MaxPooling2D((2, 2)))\n",
    "\n",
    "model.add(layers.Conv2D(28, (3, 3), activation='relu'))\n",
    "model.add(layers.MaxPooling2D((2, 2)))\n",
    "\n",
    "#model.add(layers.Flatten())  # 이전 CNN 레이어에서 나온 3차원 배열은 1차원으로 뽑아줍니다\n",
    "model.add(layers.GlobalAveragePooling2D())\n",
    "model.add(layers.Dense(14, activation='relu'))\n",
    "keras.layers.Dropout(0.5),\n",
    "model.add(layers.Dense(10, activation='softmax'))"
   ]
  },
  {
   "cell_type": "code",
   "execution_count": 8,
   "id": "injured-packing",
   "metadata": {},
   "outputs": [],
   "source": [
    "model.compile(optimizer='rmsprop',\n",
    "              loss='categorical_crossentropy',\n",
    "              metrics=['accuracy'])"
   ]
  },
  {
   "cell_type": "code",
   "execution_count": 9,
   "id": "automotive-shakespeare",
   "metadata": {},
   "outputs": [
    {
     "name": "stdout",
     "output_type": "stream",
     "text": [
      "Model: \"sequential\"\n",
      "_________________________________________________________________\n",
      "Layer (type)                 Output Shape              Param #   \n",
      "=================================================================\n",
      "conv2d (Conv2D)              (None, 26, 26, 28)        784       \n",
      "_________________________________________________________________\n",
      "max_pooling2d (MaxPooling2D) (None, 13, 13, 28)        0         \n",
      "_________________________________________________________________\n",
      "conv2d_1 (Conv2D)            (None, 11, 11, 28)        7084      \n",
      "_________________________________________________________________\n",
      "max_pooling2d_1 (MaxPooling2 (None, 5, 5, 28)          0         \n",
      "_________________________________________________________________\n",
      "global_average_pooling2d (Gl (None, 28)                0         \n",
      "_________________________________________________________________\n",
      "dense (Dense)                (None, 14)                406       \n",
      "_________________________________________________________________\n",
      "dense_1 (Dense)              (None, 10)                150       \n",
      "=================================================================\n",
      "Total params: 8,424\n",
      "Trainable params: 8,424\n",
      "Non-trainable params: 0\n",
      "_________________________________________________________________\n"
     ]
    }
   ],
   "source": [
    "model.summary()"
   ]
  },
  {
   "cell_type": "code",
   "execution_count": 10,
   "id": "suffering-bargain",
   "metadata": {},
   "outputs": [
    {
     "name": "stdout",
     "output_type": "stream",
     "text": [
      "Epoch 1/100\n",
      "40/40 [==============================] - 9s 216ms/step - loss: 2.2817 - accuracy: 0.1227 - val_loss: 2.2647 - val_accuracy: 0.1117\n",
      "Epoch 2/100\n",
      "40/40 [==============================] - 8s 197ms/step - loss: 2.2136 - accuracy: 0.2262 - val_loss: 2.1769 - val_accuracy: 0.2117\n",
      "Epoch 3/100\n",
      "40/40 [==============================] - 7s 183ms/step - loss: 2.1322 - accuracy: 0.2207 - val_loss: 2.0759 - val_accuracy: 0.2133\n",
      "Epoch 4/100\n",
      "40/40 [==============================] - 7s 186ms/step - loss: 2.0166 - accuracy: 0.2652 - val_loss: 1.9614 - val_accuracy: 0.2406\n",
      "Epoch 5/100\n",
      "40/40 [==============================] - 7s 184ms/step - loss: 1.9215 - accuracy: 0.2961 - val_loss: 1.8880 - val_accuracy: 0.3469\n",
      "Epoch 6/100\n",
      "40/40 [==============================] - 8s 188ms/step - loss: 1.8470 - accuracy: 0.3461 - val_loss: 1.8875 - val_accuracy: 0.3187\n",
      "Epoch 7/100\n",
      "40/40 [==============================] - 7s 185ms/step - loss: 1.7723 - accuracy: 0.3742 - val_loss: 1.7345 - val_accuracy: 0.4008\n",
      "Epoch 8/100\n",
      "40/40 [==============================] - 7s 185ms/step - loss: 1.7043 - accuracy: 0.4105 - val_loss: 1.7015 - val_accuracy: 0.3961\n",
      "Epoch 9/100\n",
      "40/40 [==============================] - 7s 186ms/step - loss: 1.6384 - accuracy: 0.4297 - val_loss: 1.5992 - val_accuracy: 0.4297\n",
      "Epoch 10/100\n",
      "40/40 [==============================] - 8s 193ms/step - loss: 1.6076 - accuracy: 0.4371 - val_loss: 1.5938 - val_accuracy: 0.4359\n",
      "Epoch 11/100\n",
      "40/40 [==============================] - 6s 150ms/step - loss: 1.5809 - accuracy: 0.4617 - val_loss: 1.5723 - val_accuracy: 0.4703\n",
      "Epoch 12/100\n",
      "40/40 [==============================] - 6s 157ms/step - loss: 1.5307 - accuracy: 0.4848 - val_loss: 1.5379 - val_accuracy: 0.4852\n",
      "Epoch 13/100\n",
      "40/40 [==============================] - 6s 138ms/step - loss: 1.4729 - accuracy: 0.4941 - val_loss: 1.6964 - val_accuracy: 0.3891\n",
      "Epoch 14/100\n",
      "40/40 [==============================] - 5s 137ms/step - loss: 1.4428 - accuracy: 0.5066 - val_loss: 1.4432 - val_accuracy: 0.4984\n",
      "Epoch 15/100\n",
      "40/40 [==============================] - 5s 131ms/step - loss: 1.3975 - accuracy: 0.5344 - val_loss: 1.3240 - val_accuracy: 0.5398\n",
      "Epoch 16/100\n",
      "40/40 [==============================] - 5s 135ms/step - loss: 1.4054 - accuracy: 0.5199 - val_loss: 1.3627 - val_accuracy: 0.5555\n",
      "Epoch 17/100\n",
      "40/40 [==============================] - 5s 136ms/step - loss: 1.3571 - accuracy: 0.5371 - val_loss: 1.3599 - val_accuracy: 0.5734\n",
      "Epoch 18/100\n",
      "40/40 [==============================] - 6s 139ms/step - loss: 1.2991 - accuracy: 0.5582 - val_loss: 1.3585 - val_accuracy: 0.5641\n",
      "Epoch 19/100\n",
      "40/40 [==============================] - 6s 155ms/step - loss: 1.2992 - accuracy: 0.5668 - val_loss: 1.2911 - val_accuracy: 0.5445\n",
      "Epoch 20/100\n",
      "40/40 [==============================] - 8s 188ms/step - loss: 1.2629 - accuracy: 0.5734 - val_loss: 1.2359 - val_accuracy: 0.5867\n",
      "Epoch 21/100\n",
      "40/40 [==============================] - 6s 155ms/step - loss: 1.2126 - accuracy: 0.6062 - val_loss: 1.2126 - val_accuracy: 0.5922\n",
      "Epoch 22/100\n",
      "40/40 [==============================] - 6s 162ms/step - loss: 1.1846 - accuracy: 0.5969 - val_loss: 1.2729 - val_accuracy: 0.5555\n",
      "Epoch 23/100\n",
      "40/40 [==============================] - 6s 150ms/step - loss: 1.1639 - accuracy: 0.6285 - val_loss: 1.1838 - val_accuracy: 0.5938\n",
      "Epoch 24/100\n",
      "40/40 [==============================] - 6s 145ms/step - loss: 1.1194 - accuracy: 0.6434 - val_loss: 1.0459 - val_accuracy: 0.6672\n",
      "Epoch 25/100\n",
      "40/40 [==============================] - 6s 144ms/step - loss: 1.0978 - accuracy: 0.6418 - val_loss: 1.0423 - val_accuracy: 0.6766\n",
      "Epoch 26/100\n",
      "40/40 [==============================] - 6s 155ms/step - loss: 1.0611 - accuracy: 0.6641 - val_loss: 1.0602 - val_accuracy: 0.6672\n",
      "Epoch 27/100\n",
      "40/40 [==============================] - 5s 128ms/step - loss: 1.0466 - accuracy: 0.6715 - val_loss: 1.1114 - val_accuracy: 0.6180\n",
      "Epoch 28/100\n",
      "40/40 [==============================] - 5s 125ms/step - loss: 1.0209 - accuracy: 0.6633 - val_loss: 0.9900 - val_accuracy: 0.6805\n",
      "Epoch 29/100\n",
      "40/40 [==============================] - 5s 123ms/step - loss: 0.9694 - accuracy: 0.7031 - val_loss: 0.9251 - val_accuracy: 0.7094\n",
      "Epoch 30/100\n",
      "40/40 [==============================] - 5s 127ms/step - loss: 0.9642 - accuracy: 0.7043 - val_loss: 0.9455 - val_accuracy: 0.7047\n",
      "Epoch 31/100\n",
      "40/40 [==============================] - 5s 124ms/step - loss: 0.9335 - accuracy: 0.7016 - val_loss: 0.9693 - val_accuracy: 0.6734\n",
      "Epoch 32/100\n",
      "40/40 [==============================] - 5s 134ms/step - loss: 0.9178 - accuracy: 0.7027 - val_loss: 0.9154 - val_accuracy: 0.7312\n",
      "Epoch 33/100\n",
      "40/40 [==============================] - 5s 132ms/step - loss: 0.9228 - accuracy: 0.7094 - val_loss: 0.9086 - val_accuracy: 0.6930\n",
      "Epoch 34/100\n",
      "40/40 [==============================] - 5s 116ms/step - loss: 0.8939 - accuracy: 0.7129 - val_loss: 0.9099 - val_accuracy: 0.7109\n",
      "Epoch 35/100\n",
      "40/40 [==============================] - 5s 118ms/step - loss: 0.8841 - accuracy: 0.7121 - val_loss: 0.8810 - val_accuracy: 0.7289\n",
      "Epoch 36/100\n",
      "40/40 [==============================] - 4s 102ms/step - loss: 0.8670 - accuracy: 0.7383 - val_loss: 0.8586 - val_accuracy: 0.7391\n",
      "Epoch 37/100\n",
      "40/40 [==============================] - 4s 96ms/step - loss: 0.8301 - accuracy: 0.7312 - val_loss: 0.8032 - val_accuracy: 0.7477\n",
      "Epoch 38/100\n",
      "40/40 [==============================] - 4s 97ms/step - loss: 0.7972 - accuracy: 0.7434 - val_loss: 0.8047 - val_accuracy: 0.7555\n",
      "Epoch 39/100\n",
      "40/40 [==============================] - 4s 105ms/step - loss: 0.7779 - accuracy: 0.7504 - val_loss: 0.7906 - val_accuracy: 0.7602\n",
      "Epoch 40/100\n",
      "40/40 [==============================] - 4s 96ms/step - loss: 0.8010 - accuracy: 0.7465 - val_loss: 0.7813 - val_accuracy: 0.7672\n",
      "Epoch 41/100\n",
      "40/40 [==============================] - 4s 98ms/step - loss: 0.7841 - accuracy: 0.7648 - val_loss: 0.9152 - val_accuracy: 0.6984\n",
      "Epoch 42/100\n",
      "40/40 [==============================] - 4s 96ms/step - loss: 0.7571 - accuracy: 0.7613 - val_loss: 0.7544 - val_accuracy: 0.7648\n",
      "Epoch 43/100\n",
      "40/40 [==============================] - 4s 103ms/step - loss: 0.7674 - accuracy: 0.7640 - val_loss: 0.7036 - val_accuracy: 0.7844\n",
      "Epoch 44/100\n",
      "40/40 [==============================] - 4s 111ms/step - loss: 0.7434 - accuracy: 0.7750 - val_loss: 0.7010 - val_accuracy: 0.7852\n",
      "Epoch 45/100\n",
      "40/40 [==============================] - 5s 113ms/step - loss: 0.7255 - accuracy: 0.7703 - val_loss: 0.7657 - val_accuracy: 0.7531\n",
      "Epoch 46/100\n",
      "40/40 [==============================] - 5s 137ms/step - loss: 0.7162 - accuracy: 0.7770 - val_loss: 0.7290 - val_accuracy: 0.7664\n",
      "Epoch 47/100\n",
      "40/40 [==============================] - 5s 137ms/step - loss: 0.7419 - accuracy: 0.7789 - val_loss: 0.6655 - val_accuracy: 0.7820\n",
      "Epoch 48/100\n",
      "40/40 [==============================] - 6s 144ms/step - loss: 0.7104 - accuracy: 0.7688 - val_loss: 0.6962 - val_accuracy: 0.7609\n",
      "Epoch 49/100\n",
      "40/40 [==============================] - 5s 135ms/step - loss: 0.6792 - accuracy: 0.7848 - val_loss: 0.6152 - val_accuracy: 0.8156\n",
      "Epoch 50/100\n",
      "40/40 [==============================] - 5s 136ms/step - loss: 0.7091 - accuracy: 0.7809 - val_loss: 0.7050 - val_accuracy: 0.7727\n",
      "Epoch 51/100\n",
      "40/40 [==============================] - 5s 126ms/step - loss: 0.6109 - accuracy: 0.8051 - val_loss: 0.6464 - val_accuracy: 0.8070\n",
      "Epoch 52/100\n",
      "40/40 [==============================] - 5s 133ms/step - loss: 0.6340 - accuracy: 0.7988 - val_loss: 0.7353 - val_accuracy: 0.7445\n",
      "Epoch 53/100\n",
      "40/40 [==============================] - 5s 134ms/step - loss: 0.5871 - accuracy: 0.8215 - val_loss: 0.6000 - val_accuracy: 0.8117\n",
      "Epoch 54/100\n",
      "40/40 [==============================] - 5s 130ms/step - loss: 0.6269 - accuracy: 0.8113 - val_loss: 0.6109 - val_accuracy: 0.8234\n",
      "Epoch 55/100\n",
      "40/40 [==============================] - 5s 126ms/step - loss: 0.6098 - accuracy: 0.8137 - val_loss: 0.6036 - val_accuracy: 0.8094\n",
      "Epoch 56/100\n",
      "40/40 [==============================] - 5s 133ms/step - loss: 0.6253 - accuracy: 0.8086 - val_loss: 0.6095 - val_accuracy: 0.8227\n",
      "Epoch 57/100\n",
      "40/40 [==============================] - 6s 143ms/step - loss: 0.5964 - accuracy: 0.8180 - val_loss: 0.5904 - val_accuracy: 0.8164\n"
     ]
    },
    {
     "name": "stdout",
     "output_type": "stream",
     "text": [
      "Epoch 58/100\n",
      "40/40 [==============================] - 5s 129ms/step - loss: 0.6013 - accuracy: 0.8156 - val_loss: 0.6641 - val_accuracy: 0.7688\n",
      "Epoch 59/100\n",
      "40/40 [==============================] - 5s 127ms/step - loss: 0.5938 - accuracy: 0.8129 - val_loss: 0.5556 - val_accuracy: 0.8336\n",
      "Epoch 60/100\n",
      "40/40 [==============================] - 6s 149ms/step - loss: 0.6243 - accuracy: 0.8064 - val_loss: 0.5218 - val_accuracy: 0.8359\n",
      "Epoch 61/100\n",
      "40/40 [==============================] - 6s 141ms/step - loss: 0.5606 - accuracy: 0.8336 - val_loss: 0.6360 - val_accuracy: 0.7883\n",
      "Epoch 62/100\n",
      "40/40 [==============================] - 5s 117ms/step - loss: 0.5529 - accuracy: 0.8281 - val_loss: 0.6391 - val_accuracy: 0.8102\n",
      "Epoch 63/100\n",
      "40/40 [==============================] - 5s 118ms/step - loss: 0.5696 - accuracy: 0.8238 - val_loss: 0.5159 - val_accuracy: 0.8453\n",
      "Epoch 64/100\n",
      "40/40 [==============================] - 5s 119ms/step - loss: 0.5460 - accuracy: 0.8359 - val_loss: 0.5510 - val_accuracy: 0.8375\n",
      "Epoch 65/100\n",
      "40/40 [==============================] - 5s 124ms/step - loss: 0.5614 - accuracy: 0.8305 - val_loss: 0.4716 - val_accuracy: 0.8461\n",
      "Epoch 66/100\n",
      "40/40 [==============================] - 5s 137ms/step - loss: 0.5173 - accuracy: 0.8363 - val_loss: 0.5299 - val_accuracy: 0.8281\n",
      "Epoch 67/100\n",
      "40/40 [==============================] - 5s 124ms/step - loss: 0.5732 - accuracy: 0.8246 - val_loss: 0.5269 - val_accuracy: 0.8297\n",
      "Epoch 68/100\n",
      "40/40 [==============================] - 5s 113ms/step - loss: 0.5102 - accuracy: 0.8414 - val_loss: 0.5650 - val_accuracy: 0.8102\n",
      "Epoch 69/100\n",
      "40/40 [==============================] - 4s 89ms/step - loss: 0.5177 - accuracy: 0.8336 - val_loss: 0.5674 - val_accuracy: 0.8172\n",
      "Epoch 70/100\n",
      "40/40 [==============================] - 4s 89ms/step - loss: 0.5096 - accuracy: 0.8477 - val_loss: 0.5131 - val_accuracy: 0.8383\n",
      "Epoch 71/100\n",
      "40/40 [==============================] - 4s 90ms/step - loss: 0.4932 - accuracy: 0.8457 - val_loss: 0.5159 - val_accuracy: 0.8406\n",
      "Epoch 72/100\n",
      "40/40 [==============================] - 4s 93ms/step - loss: 0.5368 - accuracy: 0.8352 - val_loss: 0.4330 - val_accuracy: 0.8773\n",
      "Epoch 73/100\n",
      "40/40 [==============================] - 4s 101ms/step - loss: 0.5150 - accuracy: 0.8461 - val_loss: 0.5006 - val_accuracy: 0.8391\n",
      "Epoch 74/100\n",
      "40/40 [==============================] - 4s 89ms/step - loss: 0.4861 - accuracy: 0.8430 - val_loss: 0.5095 - val_accuracy: 0.8344\n",
      "Epoch 75/100\n",
      "40/40 [==============================] - 4s 88ms/step - loss: 0.4950 - accuracy: 0.8434 - val_loss: 0.5260 - val_accuracy: 0.8297\n",
      "Epoch 76/100\n",
      "40/40 [==============================] - 4s 88ms/step - loss: 0.5048 - accuracy: 0.8469 - val_loss: 0.4628 - val_accuracy: 0.8539\n",
      "Epoch 77/100\n",
      "40/40 [==============================] - 4s 88ms/step - loss: 0.4753 - accuracy: 0.8496 - val_loss: 0.4555 - val_accuracy: 0.8562\n",
      "Epoch 78/100\n",
      "40/40 [==============================] - 4s 90ms/step - loss: 0.4817 - accuracy: 0.8520 - val_loss: 0.4655 - val_accuracy: 0.8516\n",
      "Epoch 79/100\n",
      "40/40 [==============================] - 4s 89ms/step - loss: 0.4708 - accuracy: 0.8559 - val_loss: 0.4847 - val_accuracy: 0.8484\n",
      "Epoch 80/100\n",
      "40/40 [==============================] - 4s 89ms/step - loss: 0.4701 - accuracy: 0.8477 - val_loss: 0.4735 - val_accuracy: 0.8523\n",
      "Epoch 81/100\n",
      "40/40 [==============================] - 4s 88ms/step - loss: 0.4216 - accuracy: 0.8711 - val_loss: 0.4707 - val_accuracy: 0.8594\n",
      "Epoch 82/100\n",
      "40/40 [==============================] - 4s 89ms/step - loss: 0.5050 - accuracy: 0.8480 - val_loss: 0.4509 - val_accuracy: 0.8641\n",
      "Epoch 83/100\n",
      "40/40 [==============================] - 3s 87ms/step - loss: 0.4514 - accuracy: 0.8516 - val_loss: 0.5252 - val_accuracy: 0.8188\n",
      "Epoch 84/100\n",
      "40/40 [==============================] - 3s 86ms/step - loss: 0.4780 - accuracy: 0.8564 - val_loss: 0.4033 - val_accuracy: 0.8734\n",
      "Epoch 85/100\n",
      "40/40 [==============================] - 4s 90ms/step - loss: 0.4397 - accuracy: 0.8664 - val_loss: 0.4782 - val_accuracy: 0.8406\n",
      "Epoch 86/100\n",
      "40/40 [==============================] - 4s 88ms/step - loss: 0.4446 - accuracy: 0.8602 - val_loss: 0.4824 - val_accuracy: 0.8492\n",
      "Epoch 87/100\n",
      "40/40 [==============================] - 4s 89ms/step - loss: 0.4405 - accuracy: 0.8645 - val_loss: 0.4057 - val_accuracy: 0.8727\n",
      "Epoch 88/100\n",
      "40/40 [==============================] - 4s 89ms/step - loss: 0.4350 - accuracy: 0.8711 - val_loss: 0.4412 - val_accuracy: 0.8609\n",
      "Epoch 89/100\n",
      "40/40 [==============================] - 3s 87ms/step - loss: 0.4331 - accuracy: 0.8720 - val_loss: 0.4226 - val_accuracy: 0.8766\n",
      "Epoch 90/100\n",
      "40/40 [==============================] - 4s 89ms/step - loss: 0.4177 - accuracy: 0.8742 - val_loss: 0.4530 - val_accuracy: 0.8531\n",
      "Epoch 91/100\n",
      "40/40 [==============================] - 3s 87ms/step - loss: 0.4562 - accuracy: 0.8578 - val_loss: 0.4831 - val_accuracy: 0.8438\n",
      "Epoch 92/100\n",
      "40/40 [==============================] - 3s 87ms/step - loss: 0.4075 - accuracy: 0.8664 - val_loss: 0.4242 - val_accuracy: 0.8734\n",
      "Epoch 93/100\n",
      "40/40 [==============================] - 4s 88ms/step - loss: 0.4377 - accuracy: 0.8602 - val_loss: 0.4268 - val_accuracy: 0.8555\n",
      "Epoch 94/100\n",
      "40/40 [==============================] - 4s 89ms/step - loss: 0.4229 - accuracy: 0.8703 - val_loss: 0.4703 - val_accuracy: 0.8305\n",
      "Epoch 95/100\n",
      "40/40 [==============================] - 3s 87ms/step - loss: 0.4038 - accuracy: 0.8738 - val_loss: 0.4130 - val_accuracy: 0.8562\n",
      "Epoch 96/100\n",
      "40/40 [==============================] - 4s 88ms/step - loss: 0.4267 - accuracy: 0.8668 - val_loss: 0.3733 - val_accuracy: 0.8820\n",
      "Epoch 97/100\n",
      "40/40 [==============================] - 4s 89ms/step - loss: 0.4307 - accuracy: 0.8633 - val_loss: 0.4309 - val_accuracy: 0.8687\n",
      "Epoch 98/100\n",
      "40/40 [==============================] - 4s 90ms/step - loss: 0.3939 - accuracy: 0.8785 - val_loss: 0.4052 - val_accuracy: 0.8672\n",
      "Epoch 99/100\n",
      "40/40 [==============================] - 4s 89ms/step - loss: 0.4187 - accuracy: 0.8758 - val_loss: 0.5305 - val_accuracy: 0.8234\n",
      "Epoch 100/100\n",
      "40/40 [==============================] - 4s 92ms/step - loss: 0.4191 - accuracy: 0.8648 - val_loss: 0.4202 - val_accuracy: 0.8719\n"
     ]
    }
   ],
   "source": [
    "history = model.fit(train_generator,\n",
    "        steps_per_epoch=40,\n",
    "        epochs=100,\n",
    "        validation_data=val_generator,\n",
    "        validation_steps=20)"
   ]
  },
  {
   "cell_type": "code",
   "execution_count": 11,
   "id": "distributed-accuracy",
   "metadata": {},
   "outputs": [
    {
     "name": "stdout",
     "output_type": "stream",
     "text": [
      "157/157 [==============================] - 48s 304ms/step - loss: 0.3380 - accuracy: 0.8956\n"
     ]
    },
    {
     "data": {
      "text/plain": [
       "[0.33798566460609436, 0.8956000208854675]"
      ]
     },
     "execution_count": 11,
     "metadata": {},
     "output_type": "execute_result"
    }
   ],
   "source": [
    "model.evaluate(test_generator)"
   ]
  },
  {
   "cell_type": "code",
   "execution_count": 13,
   "id": "interstate-sessions",
   "metadata": {},
   "outputs": [],
   "source": [
    "import json\n",
    "\n",
    "history_dict = history.history\n",
    "json.dump(history_dict, open(\"./mnist.json\", 'w'))"
   ]
  },
  {
   "cell_type": "code",
   "execution_count": 15,
   "id": "technical-physics",
   "metadata": {},
   "outputs": [
    {
     "data": {
      "text/plain": [
       "[<matplotlib.lines.Line2D at 0x257b9a51a90>]"
      ]
     },
     "execution_count": 15,
     "metadata": {},
     "output_type": "execute_result"
    },
    {
     "data": {
      "image/png": "[encoded data removed]",
      "text/plain": [
       "<Figure size 432x288 with 1 Axes>"
      ]
     },
     "metadata": {
      "needs_background": "light"
     },
     "output_type": "display_data"
    }
   ],
   "source": [
    "plt.plot(history.history['val_loss'])"
   ]
  },
  {
   "cell_type": "code",
   "execution_count": 16,
   "id": "productive-worry",
   "metadata": {},
   "outputs": [
    {
     "data": {
      "text/plain": [
       "[<matplotlib.lines.Line2D at 0x257baab1520>]"
      ]
     },
     "execution_count": 16,
     "metadata": {},
     "output_type": "execute_result"
    },
    {
     "data": {
      "image/png": "[encoded data removed]",
      "text/plain": [
       "<Figure size 432x288 with 1 Axes>"
      ]
     },
     "metadata": {
      "needs_background": "light"
     },
     "output_type": "display_data"
    }
   ],
   "source": [
    "plt.plot(history.history['val_accuracy'])"
   ]
  },
  {
   "cell_type": "code",
   "execution_count": 19,
   "id": "cubic-return",
   "metadata": {},
   "outputs": [
    {
     "name": "stdout",
     "output_type": "stream",
     "text": [
      "WARNING:tensorflow:From C:\\Users\\Cyan ovo\\anaconda3\\envs\\keras\\lib\\site-packages\\tensorflow\\python\\training\\tracking\\tracking.py:111: Model.state_updates (from tensorflow.python.keras.engine.training) is deprecated and will be removed in a future version.\n",
      "Instructions for updating:\n",
      "This property should not be used in TensorFlow 2.0, as updates are applied automatically.\n",
      "WARNING:tensorflow:From C:\\Users\\Cyan ovo\\anaconda3\\envs\\keras\\lib\\site-packages\\tensorflow\\python\\training\\tracking\\tracking.py:111: Layer.updates (from tensorflow.python.keras.engine.base_layer) is deprecated and will be removed in a future version.\n",
      "Instructions for updating:\n",
      "This property should not be used in TensorFlow 2.0, as updates are applied automatically.\n",
      "INFO:tensorflow:Assets written to: ./mnist_test_model\\assets\n"
     ]
    }
   ],
   "source": [
    "model.save('./mnist_test_model')\n",
    "model.save('./mnist_test_model.h5')"
   ]
  },
  {
   "cell_type": "code",
   "execution_count": 28,
   "id": "grateful-assignment",
   "metadata": {},
   "outputs": [
    {
     "ename": "OpError",
     "evalue": "",
     "output_type": "error",
     "traceback": [
      "\u001b[1;31m---------------------------------------------------------------------------\u001b[0m",
      "\u001b[1;31mRuntimeError\u001b[0m                              Traceback (most recent call last)",
      "\u001b[1;32m~\\anaconda3\\envs\\keras\\lib\\site-packages\\tensorflow\\python\\training\\py_checkpoint_reader.py\u001b[0m in \u001b[0;36mNewCheckpointReader\u001b[1;34m(filepattern)\u001b[0m\n\u001b[0;32m     94\u001b[0m   \u001b[1;32mtry\u001b[0m\u001b[1;33m:\u001b[0m\u001b[1;33m\u001b[0m\u001b[1;33m\u001b[0m\u001b[0m\n\u001b[1;32m---> 95\u001b[1;33m     \u001b[1;32mreturn\u001b[0m \u001b[0mCheckpointReader\u001b[0m\u001b[1;33m(\u001b[0m\u001b[0mcompat\u001b[0m\u001b[1;33m.\u001b[0m\u001b[0mas_bytes\u001b[0m\u001b[1;33m(\u001b[0m\u001b[0mfilepattern\u001b[0m\u001b[1;33m)\u001b[0m\u001b[1;33m)\u001b[0m\u001b[1;33m\u001b[0m\u001b[1;33m\u001b[0m\u001b[0m\n\u001b[0m\u001b[0;32m     96\u001b[0m   \u001b[1;31m# TODO(b/143319754): Remove the RuntimeError casting logic once we resolve the\u001b[0m\u001b[1;33m\u001b[0m\u001b[1;33m\u001b[0m\u001b[1;33m\u001b[0m\u001b[0m\n",
      "\u001b[1;31mRuntimeError\u001b[0m: ",
      "\nDuring handling of the above exception, another exception occurred:\n",
      "\u001b[1;31mOpError\u001b[0m                                   Traceback (most recent call last)",
      "\u001b[1;32m<ipython-input-28-359174284604>\u001b[0m in \u001b[0;36m<module>\u001b[1;34m\u001b[0m\n\u001b[0;32m      1\u001b[0m \u001b[0mmodel_data\u001b[0m \u001b[1;33m=\u001b[0m \u001b[0mmodels\u001b[0m\u001b[1;33m.\u001b[0m\u001b[0mSequential\u001b[0m\u001b[1;33m(\u001b[0m\u001b[1;33m)\u001b[0m\u001b[1;33m\u001b[0m\u001b[1;33m\u001b[0m\u001b[0m\n\u001b[0;32m      2\u001b[0m \u001b[1;33m\u001b[0m\u001b[0m\n\u001b[1;32m----> 3\u001b[1;33m \u001b[0mmodel_data\u001b[0m\u001b[1;33m.\u001b[0m\u001b[0mload_weights\u001b[0m\u001b[1;33m(\u001b[0m\u001b[1;34m'./mnist_test_model'\u001b[0m\u001b[1;33m)\u001b[0m\u001b[1;33m\u001b[0m\u001b[1;33m\u001b[0m\u001b[0m\n\u001b[0m\u001b[0;32m      4\u001b[0m \u001b[0mmodel_data\u001b[0m\u001b[1;33m.\u001b[0m\u001b[0msummary\u001b[0m\u001b[1;33m(\u001b[0m\u001b[1;33m)\u001b[0m\u001b[1;33m\u001b[0m\u001b[1;33m\u001b[0m\u001b[0m\n",
      "\u001b[1;32m~\\anaconda3\\envs\\keras\\lib\\site-packages\\tensorflow\\python\\keras\\engine\\training.py\u001b[0m in \u001b[0;36mload_weights\u001b[1;34m(self, filepath, by_name, skip_mismatch, options)\u001b[0m\n\u001b[0;32m   2174\u001b[0m     \u001b[1;32melse\u001b[0m\u001b[1;33m:\u001b[0m\u001b[1;33m\u001b[0m\u001b[1;33m\u001b[0m\u001b[0m\n\u001b[0;32m   2175\u001b[0m       \u001b[1;32mtry\u001b[0m\u001b[1;33m:\u001b[0m\u001b[1;33m\u001b[0m\u001b[1;33m\u001b[0m\u001b[0m\n\u001b[1;32m-> 2176\u001b[1;33m         \u001b[0mpy_checkpoint_reader\u001b[0m\u001b[1;33m.\u001b[0m\u001b[0mNewCheckpointReader\u001b[0m\u001b[1;33m(\u001b[0m\u001b[0mfilepath\u001b[0m\u001b[1;33m)\u001b[0m\u001b[1;33m\u001b[0m\u001b[1;33m\u001b[0m\u001b[0m\n\u001b[0m\u001b[0;32m   2177\u001b[0m         \u001b[0msave_format\u001b[0m \u001b[1;33m=\u001b[0m \u001b[1;34m'tf'\u001b[0m\u001b[1;33m\u001b[0m\u001b[1;33m\u001b[0m\u001b[0m\n\u001b[0;32m   2178\u001b[0m       \u001b[1;32mexcept\u001b[0m \u001b[0merrors_impl\u001b[0m\u001b[1;33m.\u001b[0m\u001b[0mDataLossError\u001b[0m\u001b[1;33m:\u001b[0m\u001b[1;33m\u001b[0m\u001b[1;33m\u001b[0m\u001b[0m\n",
      "\u001b[1;32m~\\anaconda3\\envs\\keras\\lib\\site-packages\\tensorflow\\python\\training\\py_checkpoint_reader.py\u001b[0m in \u001b[0;36mNewCheckpointReader\u001b[1;34m(filepattern)\u001b[0m\n\u001b[0;32m     97\u001b[0m   \u001b[1;31m# issue with throwing python exceptions from C++.\u001b[0m\u001b[1;33m\u001b[0m\u001b[1;33m\u001b[0m\u001b[1;33m\u001b[0m\u001b[0m\n\u001b[0;32m     98\u001b[0m   \u001b[1;32mexcept\u001b[0m \u001b[0mRuntimeError\u001b[0m \u001b[1;32mas\u001b[0m \u001b[0me\u001b[0m\u001b[1;33m:\u001b[0m\u001b[1;33m\u001b[0m\u001b[1;33m\u001b[0m\u001b[0m\n\u001b[1;32m---> 99\u001b[1;33m     \u001b[0merror_translator\u001b[0m\u001b[1;33m(\u001b[0m\u001b[0me\u001b[0m\u001b[1;33m)\u001b[0m\u001b[1;33m\u001b[0m\u001b[1;33m\u001b[0m\u001b[0m\n\u001b[0m",
      "\u001b[1;32m~\\anaconda3\\envs\\keras\\lib\\site-packages\\tensorflow\\python\\training\\py_checkpoint_reader.py\u001b[0m in \u001b[0;36merror_translator\u001b[1;34m(e)\u001b[0m\n\u001b[0;32m     46\u001b[0m     \u001b[1;32mraise\u001b[0m \u001b[0merrors_impl\u001b[0m\u001b[1;33m.\u001b[0m\u001b[0mInternalError\u001b[0m\u001b[1;33m(\u001b[0m\u001b[1;32mNone\u001b[0m\u001b[1;33m,\u001b[0m \u001b[1;32mNone\u001b[0m\u001b[1;33m,\u001b[0m \u001b[0merror_message\u001b[0m\u001b[1;33m)\u001b[0m\u001b[1;33m\u001b[0m\u001b[1;33m\u001b[0m\u001b[0m\n\u001b[0;32m     47\u001b[0m   \u001b[1;32melse\u001b[0m\u001b[1;33m:\u001b[0m\u001b[1;33m\u001b[0m\u001b[1;33m\u001b[0m\u001b[0m\n\u001b[1;32m---> 48\u001b[1;33m     \u001b[1;32mraise\u001b[0m \u001b[0merrors_impl\u001b[0m\u001b[1;33m.\u001b[0m\u001b[0mOpError\u001b[0m\u001b[1;33m(\u001b[0m\u001b[1;32mNone\u001b[0m\u001b[1;33m,\u001b[0m \u001b[1;32mNone\u001b[0m\u001b[1;33m,\u001b[0m \u001b[0merror_message\u001b[0m\u001b[1;33m,\u001b[0m \u001b[0merrors_impl\u001b[0m\u001b[1;33m.\u001b[0m\u001b[0mUNKNOWN\u001b[0m\u001b[1;33m)\u001b[0m\u001b[1;33m\u001b[0m\u001b[1;33m\u001b[0m\u001b[0m\n\u001b[0m\u001b[0;32m     49\u001b[0m \u001b[1;33m\u001b[0m\u001b[0m\n\u001b[0;32m     50\u001b[0m \u001b[1;33m\u001b[0m\u001b[0m\n",
      "\u001b[1;31mOpError\u001b[0m: "
     ]
    }
   ],
   "source": [
    "model_data = models.Sequential()\n",
    "\n",
    "model_data.load_weights('./mnist_test_model')\n",
    "model_data.summary()"
   ]
  },
  {
   "cell_type": "code",
   "execution_count": null,
   "id": "eleven-editor",
   "metadata": {},
   "outputs": [],
   "source": []
  }
 ],
 "metadata": {
  "kernelspec": {
   "display_name": "Python 3",
   "language": "python",
   "name": "python3"
  },
  "language_info": {
   "codemirror_mode": {
    "name": "ipython",
    "version": 3
   },
   "file_extension": ".py",
   "mimetype": "text/x-python",
   "name": "python",
   "nbconvert_exporter": "python",
   "pygments_lexer": "ipython3",
   "version": "3.8.5"
  }
 },
 "nbformat": 4,
 "nbformat_minor": 5
}
